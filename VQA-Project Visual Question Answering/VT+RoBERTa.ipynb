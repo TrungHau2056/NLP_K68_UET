{
  "cells": [
    {
      "cell_type": "markdown",
      "metadata": {},
      "source": [
        "### THUC HIEN TREN GG COLAB"
      ]
    },
    {
      "cell_type": "code",
      "execution_count": null,
      "metadata": {
        "colab": {
          "base_uri": "https://localhost:8080/"
        },
        "id": "DlctsneWEZg1",
        "outputId": "9fd515f0-b6d3-4b2e-b256-4b964cc87305"
      },
      "outputs": [],
      "source": [
        "!unzip /content/vqa_coco_dataset.zip"
      ]
    },
    {
      "cell_type": "markdown",
      "metadata": {
        "id": "WX4dPPMv-e1s"
      },
      "source": [
        "khai bao thu vien"
      ]
    },
    {
      "cell_type": "code",
      "execution_count": null,
      "metadata": {
        "id": "NZjvXKGL5c_g"
      },
      "outputs": [],
      "source": [
        "import torch\n",
        "import torch.nn as nn\n",
        "import os\n",
        "import random\n",
        "import numpy as np\n",
        "import pandas as pd\n",
        "import matplotlib.pyplot as plt\n",
        "\n",
        "from PIL import Image\n",
        "from torch.utils.data import Dataset, DataLoader\n",
        "from torchvision import transforms\n",
        "from transformers import ViTModel, ViTImageProcessor\n",
        "from transformers import AutoTokenizer, RobertaModel"
      ]
    },
    {
      "cell_type": "markdown",
      "metadata": {
        "id": "KdYHn6F--fYR"
      },
      "source": [
        "cai dat gia tri ngau nhien co dinh"
      ]
    },
    {
      "cell_type": "code",
      "execution_count": null,
      "metadata": {
        "id": "A2piOf2l-fqi"
      },
      "outputs": [],
      "source": [
        "def set_seed (seed):\n",
        "  random.seed(seed)\n",
        "  np.random.seed(seed)\n",
        "  torch.manual_seed(seed)\n",
        "  torch.cuda.manual_seed(seed)\n",
        "  torch.cuda.manual_seed_all(seed)\n",
        "  torch.backends.cudnn.deterministic = True\n",
        "  torch.backends.cudnn.benchmark = False\n",
        "\n",
        "seed = 59\n",
        "set_seed(seed)"
      ]
    },
    {
      "cell_type": "markdown",
      "metadata": {
        "id": "ZuqsXel8-gHy"
      },
      "source": [
        "chia bo du lieu"
      ]
    },
    {
      "cell_type": "code",
      "execution_count": null,
      "metadata": {
        "id": "QR3epvSV-2PL"
      },
      "outputs": [],
      "source": [
        "# Load train data\n",
        "train_data = []\n",
        "train_set_path = './vaq2.0.TrainImages.txt'\n",
        "\n",
        "with open(train_set_path, \"r\") as f:\n",
        "  lines = f.readlines()\n",
        "  for line in lines:\n",
        "    temp = line.split('\\t')\n",
        "    qa = temp[1].split('?')\n",
        "    if len(qa) == 3:\n",
        "      answer = qa[2].strip()\n",
        "    else:\n",
        "      answer = qa[1].strip()\n",
        "\n",
        "    data_sample = {\n",
        "      'image_path': temp[0][: -2],\n",
        "      'question': qa[0] + '?',\n",
        "      'answer': answer\n",
        "    }\n",
        "    train_data.append(data_sample)\n",
        "\n",
        "# Load val data\n",
        "val_data = []\n",
        "val_set_path = './vaq2.0.DevImages.txt'\n",
        "\n",
        "with open (val_set_path, \"r\") as f:\n",
        "  lines = f.readlines()\n",
        "  for line in lines:\n",
        "    temp = line.split('\\t')\n",
        "    qa = temp[1].split('?')\n",
        "    if len(qa) == 3:\n",
        "      answer = qa[2].strip()\n",
        "    else:\n",
        "      answer = qa[1].strip()\n",
        "\n",
        "    data_sample = {\n",
        "      'image_path': temp[0][: -2],\n",
        "      'question': qa[0] + '?',\n",
        "      'answer': answer\n",
        "    }\n",
        "    val_data.append(data_sample)\n",
        "\n",
        "# Load test data\n",
        "test_data = []\n",
        "test_set_path = './vaq2.0.TestImages.txt'\n",
        "\n",
        "with open (test_set_path, \"r\") as f:\n",
        "  lines = f.readlines()\n",
        "  for line in lines:\n",
        "    temp = line.split('\\t')\n",
        "    qa = temp[1].split('?')\n",
        "    if len(qa) == 3:\n",
        "      answer = qa[2].strip()\n",
        "    else:\n",
        "      answer = qa[1].strip()\n",
        "\n",
        "    data_sample = {\n",
        "      'image_path': temp[0][: -2],\n",
        "      'question': qa[0] + '?',\n",
        "      'answer': answer\n",
        "    }\n",
        "    test_data.append(data_sample)"
      ]
    },
    {
      "cell_type": "markdown",
      "metadata": {
        "id": "Vy3PtSIL-3tX"
      },
      "source": [
        "xay dung dictionary mapping classes"
      ]
    },
    {
      "cell_type": "code",
      "execution_count": null,
      "metadata": {
        "id": "aZNhZuou-3mE"
      },
      "outputs": [],
      "source": [
        "classes = set([sample['answer'] for sample in train_data])\n",
        "label2idx = {\n",
        "  cls_name: idx for idx, cls_name in enumerate(classes)\n",
        "}\n",
        "\n",
        "idx2label = {\n",
        "  idx: cls_name for idx, cls_name in enumerate(classes)\n",
        "}"
      ]
    },
    {
      "cell_type": "markdown",
      "metadata": {
        "id": "4PjYXFH9-3ee"
      },
      "source": [
        "xay dung pytorch dataset"
      ]
    },
    {
      "cell_type": "code",
      "execution_count": null,
      "metadata": {
        "id": "JZY2Xl0D-3X_"
      },
      "outputs": [],
      "source": [
        "class VQADataset(Dataset):\n",
        "  def __init__(\n",
        "    self,\n",
        "    data,\n",
        "    label2idx,\n",
        "    img_feature_extractor,\n",
        "    text_tokenizer,\n",
        "    device,\n",
        "    transforms=None,\n",
        "    img_dir='val2014-resised'\n",
        "  ):\n",
        "    self.data = data\n",
        "    self.img_dir = img_dir\n",
        "    self.label2idx = label2idx\n",
        "    self.img_feature_extractor = img_feature_extractor\n",
        "    self.text_tokenizer = text_tokenizer\n",
        "    self.device = device\n",
        "    self.transforms = transforms\n",
        "\n",
        "  def __len__(self):\n",
        "    return len(self.data)\n",
        "\n",
        "  def __getitem__(self, index):\n",
        "    img_path = os.path.join(self.img_dir, self.data[index]['image_path'])\n",
        "    img = Image.open(img_path).convert('RGB')\n",
        "\n",
        "    if self.transforms:\n",
        "      img = self.transforms(img)\n",
        "\n",
        "    if self.img_feature_extractor:\n",
        "      img = self.img_feature_extractor(images=img, return_tensors=\"pt\")\n",
        "      img = {k: v.to(self.device).squeeze(0) for k, v in img.items()}\n",
        "\n",
        "    question = self.data[index]['question']\n",
        "    if self.text_tokenizer:\n",
        "      question = self.text_tokenizer (\n",
        "        question,\n",
        "        padding=\"max_length\",\n",
        "        max_length=20,\n",
        "        truncation=True,\n",
        "        return_tensors=\"pt\"\n",
        "      )\n",
        "      question = {k: v.to(self.device).squeeze(0) for k, v in question.items()}\n",
        "\n",
        "    label = self.data[index]['answer']\n",
        "    label = torch.tensor(\n",
        "      self.label2idx[label],\n",
        "      dtype = torch.long\n",
        "    ).to(self.device)\n",
        "\n",
        "    sample = {\n",
        "      'image': img,\n",
        "      'question': question,\n",
        "      'label': label\n",
        "    }\n",
        "\n",
        "    return sample"
      ]
    },
    {
      "cell_type": "markdown",
      "metadata": {
        "id": "vqoGxKsP-3NV"
      },
      "source": [
        "xay dung pytorch transform"
      ]
    },
    {
      "cell_type": "code",
      "execution_count": null,
      "metadata": {
        "id": "QopkZU3c-2_-"
      },
      "outputs": [],
      "source": [
        "data_transform = transforms.Compose([\n",
        "  transforms.Resize(size=(224, 224)),\n",
        "  transforms.CenterCrop(size=180),\n",
        "  transforms.ColorJitter(brightness =0.1, contrast =0.1, saturation =0.1),\n",
        "  transforms.RandomHorizontalFlip(),\n",
        "  transforms.GaussianBlur(3),\n",
        "])\n"
      ]
    },
    {
      "cell_type": "markdown",
      "metadata": {
        "id": "RAHLGCM9-2vR"
      },
      "source": [
        "Khai bao datasets object cho ba bo train val test"
      ]
    },
    {
      "cell_type": "code",
      "execution_count": null,
      "metadata": {
        "id": "teVs6jPqE5zD"
      },
      "outputs": [],
      "source": [
        "img_feature_extractor = ViTImageProcessor.from_pretrained(\"google/vit-base-patch16-224\")\n",
        "text_tokenizer = AutoTokenizer.from_pretrained(\"roberta-base\")\n",
        "device = 'cuda' if torch.cuda.is_available() else 'cpu'\n",
        "\n",
        "train_dataset = VQADataset(\n",
        "  train_data,\n",
        "  label2idx=label2idx,\n",
        "  img_feature_extractor=img_feature_extractor,\n",
        "  text_tokenizer=text_tokenizer,\n",
        "  device=device,\n",
        "  transforms=data_transform\n",
        ")\n",
        "val_dataset = VQADataset(\n",
        "  val_data,\n",
        "  label2idx=label2idx,\n",
        "  img_feature_extractor=img_feature_extractor,\n",
        "  text_tokenizer=text_tokenizer,\n",
        "  device=device,\n",
        ")\n",
        "test_dataset = VQADataset(\n",
        "  test_data,\n",
        "  label2idx=label2idx,\n",
        "  img_feature_extractor=img_feature_extractor,\n",
        "  text_tokenizer=text_tokenizer,\n",
        "  device=device,\n",
        ")\n"
      ]
    },
    {
      "cell_type": "markdown",
      "metadata": {
        "id": "D01_EWOEFqHR"
      },
      "source": [
        "Khai bao data loader"
      ]
    },
    {
      "cell_type": "code",
      "execution_count": null,
      "metadata": {
        "id": "bHMl8xF1Fxqp"
      },
      "outputs": [],
      "source": [
        "train_batch_size = 256\n",
        "test_batch_size = 32\n",
        "\n",
        "train_loader = DataLoader (\n",
        "  train_dataset,\n",
        "  batch_size=train_batch_size,\n",
        "  shuffle=True\n",
        ")\n",
        "val_loader = DataLoader (\n",
        "  val_dataset,\n",
        "  batch_size=test_batch_size,\n",
        "  shuffle=False\n",
        ")\n",
        "test_loader = DataLoader (\n",
        "  test_dataset,\n",
        "  batch_size=test_batch_size,\n",
        "  shuffle=False\n",
        ")\n"
      ]
    },
    {
      "cell_type": "markdown",
      "metadata": {
        "id": "buRarDPfGEDa"
      },
      "source": [
        "Xay dung model"
      ]
    },
    {
      "cell_type": "code",
      "execution_count": null,
      "metadata": {
        "id": "3qyssx_VGGCI"
      },
      "outputs": [],
      "source": [
        "#text encoder\n",
        "class TextEncoder (nn. Module):\n",
        "  def __init__(self):\n",
        "    super(TextEncoder, self).__init__()\n",
        "    self.model = RobertaModel.from_pretrained(\"roberta-base\")\n",
        "\n",
        "  def forward(self, inputs):\n",
        "    outputs = self.model(**inputs)\n",
        "\n",
        "    return outputs.pooler_output\n",
        "\n",
        "#visual encoder\n",
        "class VisualEncoder(nn. Module):\n",
        "  def __init__(self):\n",
        "    super(VisualEncoder, self).__init__()\n",
        "    self.model = ViTModel.from_pretrained(\"google/vit-base-patch16-224\")\n",
        "  def forward (self, inputs):\n",
        "    outputs = self.model(**inputs)\n",
        "    return outputs.pooler_output\n",
        "\n",
        "#classifier\n",
        "class Classifier(nn.Module):\n",
        "  def __init__(\n",
        "    self,\n",
        "    hidden_size=512,\n",
        "    dropout_prob=0.2,\n",
        "    n_classes=2\n",
        "  ):\n",
        "    super(Classifier, self).__init__()\n",
        "    self.fc1 = nn.Linear(768 * 2, hidden_size)\n",
        "    self.dropout = nn.Dropout(dropout_prob)\n",
        "    self.gelu = nn.GELU()\n",
        "    self.fc2 = nn.Linear(hidden_size, n_classes)\n",
        "  def forward(self, x):\n",
        "    x = self.fc1(x)\n",
        "    x = self.gelu(x)\n",
        "    x = self.dropout(x)\n",
        "    x = self.fc2(x)\n",
        "\n",
        "    return x\n",
        "\n",
        "#VQAModel\n",
        "class VQAModel(nn.Module):\n",
        "  def __init__(\n",
        "    self,\n",
        "    visual_encoder,\n",
        "    text_encoder,\n",
        "    classifier\n",
        "  ):\n",
        "    super(VQAModel, self).__init__()\n",
        "    self.visual_encoder = visual_encoder\n",
        "    self.text_encoder = text_encoder\n",
        "    self.classifier = classifier\n",
        "\n",
        "  def forward(self, image, answer):\n",
        "    text_out = self.text_encoder(answer)\n",
        "    image_out = self.visual_encoder(image)\n",
        "\n",
        "    x = torch.cat((image_out, text_out), dim=1)\n",
        "    x = self.classifier(x)\n",
        "\n",
        "    return x\n",
        "\n",
        "  def freeze(self, visual=True, textual=True, clas=False):\n",
        "    if visual:\n",
        "      for n,p in self.visual_encoder.named_parameters():\n",
        "        p.requires_grad = False\n",
        "    if textual:\n",
        "      for n,p in self.text_encoder.named_parameters():\n",
        "        p.requires_grad= False\n",
        "    if clas:\n",
        "      for n,p in self.classifier.named_parameters():\n",
        "        p.requires_grad= False"
      ]
    },
    {
      "cell_type": "markdown",
      "metadata": {
        "id": "gBWUTZIKPD5E"
      },
      "source": [
        "khai bao mo hinh"
      ]
    },
    {
      "cell_type": "code",
      "execution_count": null,
      "metadata": {
        "colab": {
          "base_uri": "https://localhost:8080/"
        },
        "id": "L-De4eYpPFQk",
        "outputId": "5bebd55e-1806-4aa6-f9ad-095749431a44"
      },
      "outputs": [
        {
          "name": "stderr",
          "output_type": "stream",
          "text": [
            "Some weights of RobertaModel were not initialized from the model checkpoint at roberta-base and are newly initialized: ['roberta.pooler.dense.bias', 'roberta.pooler.dense.weight']\n",
            "You should probably TRAIN this model on a down-stream task to be able to use it for predictions and inference.\n",
            "Some weights of ViTModel were not initialized from the model checkpoint at google/vit-base-patch16-224 and are newly initialized: ['vit.pooler.dense.bias', 'vit.pooler.dense.weight']\n",
            "You should probably TRAIN this model on a down-stream task to be able to use it for predictions and inference.\n"
          ]
        }
      ],
      "source": [
        "n_classes = len(classes)\n",
        "hidden_size = 256\n",
        "dropout_prob = 0.2\n",
        "\n",
        "text_encoder = TextEncoder().to(device)\n",
        "visual_encoder = VisualEncoder().to(device)\n",
        "classifier = Classifier(\n",
        "  hidden_size=hidden_size,\n",
        "  dropout_prob=dropout_prob,\n",
        "  n_classes=n_classes\n",
        ").to(device)\n",
        "\n",
        "model = VQAModel(\n",
        "  visual_encoder=visual_encoder,\n",
        "  text_encoder=text_encoder,\n",
        "  classifier=classifier\n",
        ").to(device)\n",
        "model.freeze()"
      ]
    },
    {
      "cell_type": "markdown",
      "metadata": {
        "id": "OzGrq5orHfpz"
      },
      "source": [
        "xay dung ham train va evaluate"
      ]
    },
    {
      "cell_type": "code",
      "execution_count": null,
      "metadata": {
        "id": "XVzvnN1rI-eP"
      },
      "outputs": [],
      "source": [
        "def evaluate(model, dataloader, criterion):\n",
        "  model.eval()\n",
        "  correct = 0\n",
        "  total = 0\n",
        "  losses = []\n",
        "  with torch.no_grad():\n",
        "    for idx, inputs in enumerate(dataloader):\n",
        "      images = inputs['image']\n",
        "      questions = inputs['question']\n",
        "      labels = inputs['label']\n",
        "      outputs = model(images, questions)\n",
        "      loss = criterion(outputs, labels)\n",
        "      losses.append(loss.item())\n",
        "      _, predicted = torch.max(outputs.data, 1)\n",
        "      total += labels.size (0)\n",
        "      correct += (predicted == labels).sum().item()\n",
        "  loss = sum(losses) / len(losses)\n",
        "  acc = correct / total\n",
        "\n",
        "  return loss, acc\n",
        "\n",
        "def fit(\n",
        "  model,\n",
        "  train_loader,\n",
        "  val_loader,\n",
        "  criterion,\n",
        "  optimizer,\n",
        "  scheduler,\n",
        "  epochs\n",
        "):\n",
        "  train_losses = []\n",
        "  val_losses = []\n",
        "\n",
        "  for epoch in range(epochs):\n",
        "    batch_train_losses = []\n",
        "\n",
        "    model.train()\n",
        "    for idx, inputs in enumerate(train_loader):\n",
        "      images = inputs['image']\n",
        "      questions = inputs['question']\n",
        "      labels = inputs['label']\n",
        "\n",
        "      optimizer.zero_grad()\n",
        "      outputs = model(images, questions)\n",
        "      loss = criterion(outputs, labels)\n",
        "      loss.backward ()\n",
        "      optimizer.step()\n",
        "\n",
        "      batch_train_losses.append(loss.item())\n",
        "\n",
        "    train_loss = sum(batch_train_losses) / len(batch_train_losses)\n",
        "    train_losses.append(train_loss)\n",
        "    val_loss, val_acc = evaluate(model, val_loader, criterion)\n",
        "    val_losses.append(val_loss)\n",
        "\n",
        "    print(f'EPOCH {epoch + 1}:\\tTrain loss: {train_loss:.4f}\\tVal loss: {val_loss:.4f}\\tVal Acc: {val_acc}')\n",
        "\n",
        "    scheduler.step()\n",
        "\n",
        "  return train_losses, val_losses"
      ]
    },
    {
      "cell_type": "markdown",
      "metadata": {
        "id": "AQXizgBmI-wW"
      },
      "source": [
        "Khai bao ham loss optimizer va scheduler"
      ]
    },
    {
      "cell_type": "code",
      "execution_count": null,
      "metadata": {
        "id": "yB2MDTs-LY0f"
      },
      "outputs": [],
      "source": [
        "lr = 1e-3\n",
        "epochs = 50\n",
        "scheduler_step_size = epochs * 0.8\n",
        "criterion =  nn.CrossEntropyLoss()\n",
        "\n",
        "optimizer = torch.optim.Adam(\n",
        "  model.parameters(),\n",
        "  lr=lr\n",
        ")\n",
        "\n",
        "scheduler = torch.optim.lr_scheduler.StepLR(\n",
        "  optimizer,\n",
        "  step_size=scheduler_step_size,\n",
        "  gamma=0.1\n",
        ")\n"
      ]
    },
    {
      "cell_type": "markdown",
      "metadata": {
        "id": "vi1Q8l8VLvas"
      },
      "source": [
        "Training"
      ]
    },
    {
      "cell_type": "code",
      "execution_count": null,
      "metadata": {
        "colab": {
          "base_uri": "https://localhost:8080/",
          "height": 356
        },
        "id": "EW7Y9QvULwrq",
        "outputId": "5410361e-57ef-4746-e4a6-065669c4e3c6"
      },
      "outputs": [],
      "source": [
        "train_losses, val_losses = fit(\n",
        "  model,\n",
        "  train_loader,\n",
        "  val_loader,\n",
        "  criterion,\n",
        "  optimizer,\n",
        "  scheduler,\n",
        "  epochs\n",
        ")"
      ]
    },
    {
      "cell_type": "markdown",
      "metadata": {
        "id": "JVvhXPNmLw4I"
      },
      "source": [
        "evaluation"
      ]
    },
    {
      "cell_type": "code",
      "execution_count": null,
      "metadata": {
        "id": "jWGXlkN2LxLv"
      },
      "outputs": [],
      "source": [
        "val_loss, val_acc = evaluate(\n",
        "  model,\n",
        "  val_loader,\n",
        "  criterion\n",
        ")\n",
        "test_loss, test_acc = evaluate(\n",
        "  model,\n",
        "  test_loader,\n",
        "  criterion\n",
        ")\n",
        "\n",
        "print('Evaluation on val/test dataset ')\n",
        "print('Val accuracy: ', val_acc)\n",
        "print('Test accuracy: ', test_acc)\n",
        "\n",
        "## Evaluation results from author\n",
        "# Val accuracy: 0.6664959016393442\n",
        "# Test accuracy: 0.6533135509396637\n"
      ]
    }
  ],
  "metadata": {
    "colab": {
      "provenance": []
    },
    "kernelspec": {
      "display_name": "Python 3",
      "name": "python3"
    },
    "language_info": {
      "name": "python"
    }
  },
  "nbformat": 4,
  "nbformat_minor": 0
}
